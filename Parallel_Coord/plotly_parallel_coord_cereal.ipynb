{
 "cells": [
  {
   "cell_type": "markdown",
   "metadata": {},
   "source": [
    "### Parallel Coordinates Plot\n",
    "Plotly is one of a number of graphics packages that's available  \n",
    "for Python, R and javascript. This example uses Python.  \n",
    "  \n",
    "The dataset captures nutritional information from breakfast cereals  \n",
    "and was adjusted to focus on six cereals and five nutritional values.  \n",
    "\n",
    "80 Cereals  \n",
    "https://www.kaggle.com/crawford/80-cereals"
   ]
  },
  {
   "cell_type": "code",
   "execution_count": 1,
   "metadata": {},
   "outputs": [],
   "source": [
    "import plotly\n",
    "import pandas as pd"
   ]
  },
  {
   "cell_type": "markdown",
   "metadata": {},
   "source": [
    "#### Offline graphs\n",
    "There are a number of ways to create graphs in Plotly.  \n",
    "This example displays offline and in a Jupyter notebook  \n",
    "so the line of code below is needed to initialize notebook mode.\n",
    "\n",
    "For more information:  \n",
    "https://plot.ly/python/getting-started/"
   ]
  },
  {
   "cell_type": "code",
   "execution_count": 2,
   "metadata": {},
   "outputs": [
    {
     "data": {
      "text/html": [
       "<script>requirejs.config({paths: { 'plotly': ['https://cdn.plot.ly/plotly-latest.min']},});if(!window.Plotly) {{require(['plotly'],function(plotly) {window.Plotly=plotly;});}}</script>"
      ],
      "text/vnd.plotly.v1+html": [
       "<script>requirejs.config({paths: { 'plotly': ['https://cdn.plot.ly/plotly-latest.min']},});if(!window.Plotly) {{require(['plotly'],function(plotly) {window.Plotly=plotly;});}}</script>"
      ]
     },
     "metadata": {},
     "output_type": "display_data"
    }
   ],
   "source": [
    "plotly.offline.init_notebook_mode(connected=True)"
   ]
  },
  {
   "cell_type": "markdown",
   "metadata": {},
   "source": [
    "#### Read Data\n",
    "Data for the graph was read from an Excel file.  \n",
    "This is a small dataset which is displayed below.  "
   ]
  },
  {
   "cell_type": "code",
   "execution_count": 9,
   "metadata": {},
   "outputs": [],
   "source": [
    "df = pd.read_excel('H:\\\\My Documents\\\\Work\\\\datasets\\\\cereal.xlsx')"
   ]
  },
  {
   "cell_type": "code",
   "execution_count": 123,
   "metadata": {
    "scrolled": false
   },
   "outputs": [
    {
     "data": {
      "text/html": [
       "<div>\n",
       "<style scoped>\n",
       "    .dataframe tbody tr th:only-of-type {\n",
       "        vertical-align: middle;\n",
       "    }\n",
       "\n",
       "    .dataframe tbody tr th {\n",
       "        vertical-align: top;\n",
       "    }\n",
       "\n",
       "    .dataframe thead th {\n",
       "        text-align: right;\n",
       "    }\n",
       "</style>\n",
       "<table border=\"1\" class=\"dataframe\">\n",
       "  <thead>\n",
       "    <tr style=\"text-align: right;\">\n",
       "      <th></th>\n",
       "      <th>name</th>\n",
       "      <th>protein</th>\n",
       "      <th>fat</th>\n",
       "      <th>fiber</th>\n",
       "      <th>carbohydrates</th>\n",
       "      <th>sugars</th>\n",
       "      <th>ID</th>\n",
       "    </tr>\n",
       "  </thead>\n",
       "  <tbody>\n",
       "    <tr>\n",
       "      <th>0</th>\n",
       "      <td>Apple Jacks</td>\n",
       "      <td>2</td>\n",
       "      <td>0</td>\n",
       "      <td>1</td>\n",
       "      <td>11</td>\n",
       "      <td>14</td>\n",
       "      <td>1</td>\n",
       "    </tr>\n",
       "    <tr>\n",
       "      <th>1</th>\n",
       "      <td>All-Bran</td>\n",
       "      <td>4</td>\n",
       "      <td>1</td>\n",
       "      <td>9</td>\n",
       "      <td>7</td>\n",
       "      <td>5</td>\n",
       "      <td>2</td>\n",
       "    </tr>\n",
       "    <tr>\n",
       "      <th>2</th>\n",
       "      <td>Corn Flakes</td>\n",
       "      <td>2</td>\n",
       "      <td>0</td>\n",
       "      <td>1</td>\n",
       "      <td>21</td>\n",
       "      <td>2</td>\n",
       "      <td>3</td>\n",
       "    </tr>\n",
       "    <tr>\n",
       "      <th>3</th>\n",
       "      <td>Wheaties</td>\n",
       "      <td>3</td>\n",
       "      <td>1</td>\n",
       "      <td>3</td>\n",
       "      <td>17</td>\n",
       "      <td>3</td>\n",
       "      <td>4</td>\n",
       "    </tr>\n",
       "    <tr>\n",
       "      <th>4</th>\n",
       "      <td>Life</td>\n",
       "      <td>4</td>\n",
       "      <td>2</td>\n",
       "      <td>2</td>\n",
       "      <td>12</td>\n",
       "      <td>6</td>\n",
       "      <td>5</td>\n",
       "    </tr>\n",
       "    <tr>\n",
       "      <th>5</th>\n",
       "      <td>Quaker Oatmeal</td>\n",
       "      <td>5</td>\n",
       "      <td>2</td>\n",
       "      <td>3</td>\n",
       "      <td>0</td>\n",
       "      <td>0</td>\n",
       "      <td>6</td>\n",
       "    </tr>\n",
       "  </tbody>\n",
       "</table>\n",
       "</div>"
      ],
      "text/plain": [
       "             name  protein  fat  fiber  carbohydrates  sugars  ID\n",
       "0     Apple Jacks        2    0      1             11      14   1\n",
       "1        All-Bran        4    1      9              7       5   2\n",
       "2     Corn Flakes        2    0      1             21       2   3\n",
       "3        Wheaties        3    1      3             17       3   4\n",
       "4            Life        4    2      2             12       6   5\n",
       "5  Quaker Oatmeal        5    2      3              0       0   6"
      ]
     },
     "execution_count": 123,
     "metadata": {},
     "output_type": "execute_result"
    }
   ],
   "source": [
    "df.head(6)"
   ]
  },
  {
   "cell_type": "markdown",
   "metadata": {},
   "source": [
    "#### Graph\n",
    "Parallel coordinate graphs are good for comparisons  \n",
    "of different items across the same category values.  \n",
    "In this case, grams of different nutrients are compared  \n",
    "from different breakfast cereals.\n",
    "\n",
    "In this example, one can see the Apple Jacks have  \n",
    "the highest sugar content while Corn Flakes has  \n",
    "the highest content of carbohydrates."
   ]
  },
  {
   "cell_type": "code",
   "execution_count": 121,
   "metadata": {},
   "outputs": [],
   "source": [
    "figure = {\n",
    "    \n",
    "    'data': [{\n",
    "        'type': 'parcoords',\n",
    "        'line': {'color': df['ID'], 'colorscale': 'Portland'},\n",
    "        'dimensions': [\n",
    "            {'range': [0, 25], 'label': 'Sugars', 'values': df['sugars']},\n",
    "            {'range': [0, 25], 'label': 'Fat', 'values': df['fat']},\n",
    "            {'range': [0, 25], 'label': 'Fiber', 'values': df['fiber']},\n",
    "            {'range': [0, 25], 'label': 'Carbohydrates', 'values': df['carbohydrates']},\n",
    "            {'range': [0, 25], 'label': 'Protein', 'values': df['protein']}\n",
    "        ]\n",
    "    }\n",
    "        \n",
    "    ],\n",
    "    \n",
    "    'layout': {\n",
    "        \n",
    "        'margin': {'l': 200, 'r': 100, 't': 100},\n",
    "        'annotations': [\n",
    "            {'xref': 'paper', 'x': -0.20, 'y': 0.0, 'text': 'Quaker Oatmeal', 'font': {'size': 14}, 'showarrow': False},\n",
    "            {'xref': 'paper', 'x': -0.20, 'y': 0.25, 'text': 'Life', 'font': {'size': 14}, 'showarrow': False},\n",
    "            {'xref': 'paper', 'x': -0.20, 'y': 0.20, 'text': 'All-Bran', 'font': {'size': 14}, 'showarrow': False},\n",
    "            {'xref': 'paper', 'x': -0.20, 'y': 0.12, 'text': 'Wheaties', 'font': {'size': 14}, 'showarrow': False},\n",
    "            {'xref': 'paper', 'x': -0.20, 'y': 0.07, 'text': 'Corn Flakes', 'font': {'size': 14}, 'showarrow': False},\n",
    "            {'xref': 'paper', 'x': -0.20, 'y': 0.60, 'text': 'Apple Jacks', 'font': {'size': 14}, 'showarrow': False}\n",
    "           \n",
    "            \n",
    "        ]\n",
    "    }\n",
    "    \n",
    "        \n",
    "}"
   ]
  },
  {
   "cell_type": "code",
   "execution_count": 122,
   "metadata": {
    "scrolled": false
   },
   "outputs": [
    {
     "data": {
      "application/vnd.plotly.v1+json": {
       "data": [
        {
         "dimensions": [
          {
           "label": "Sugars",
           "range": [
            0,
            25
           ],
           "values": [
            14,
            5,
            2,
            3,
            6,
            0
           ]
          },
          {
           "label": "Fat",
           "range": [
            0,
            25
           ],
           "values": [
            0,
            1,
            0,
            1,
            2,
            2
           ]
          },
          {
           "label": "Fiber",
           "range": [
            0,
            25
           ],
           "values": [
            1,
            9,
            1,
            3,
            2,
            3
           ]
          },
          {
           "label": "Carbohydrates",
           "range": [
            0,
            25
           ],
           "values": [
            11,
            7,
            21,
            17,
            12,
            0
           ]
          },
          {
           "label": "Protein",
           "range": [
            0,
            25
           ],
           "values": [
            2,
            4,
            2,
            3,
            4,
            5
           ]
          }
         ],
         "line": {
          "color": [
           1,
           2,
           3,
           4,
           5,
           6
          ],
          "colorscale": "Portland"
         },
         "type": "parcoords"
        }
       ],
       "layout": {
        "annotations": [
         {
          "font": {
           "size": 14
          },
          "showarrow": false,
          "text": "Quaker Oatmeal",
          "x": -0.2,
          "xref": "paper",
          "y": 0
         },
         {
          "font": {
           "size": 14
          },
          "showarrow": false,
          "text": "Life",
          "x": -0.2,
          "xref": "paper",
          "y": 0.25
         },
         {
          "font": {
           "size": 14
          },
          "showarrow": false,
          "text": "All-Bran",
          "x": -0.2,
          "xref": "paper",
          "y": 0.2
         },
         {
          "font": {
           "size": 14
          },
          "showarrow": false,
          "text": "Wheaties",
          "x": -0.2,
          "xref": "paper",
          "y": 0.12
         },
         {
          "font": {
           "size": 14
          },
          "showarrow": false,
          "text": "Corn Flakes",
          "x": -0.2,
          "xref": "paper",
          "y": 0.07
         },
         {
          "font": {
           "size": 14
          },
          "showarrow": false,
          "text": "Apple Jacks",
          "x": -0.2,
          "xref": "paper",
          "y": 0.6
         }
        ],
        "margin": {
         "l": 200,
         "r": 100,
         "t": 100
        }
       }
      },
      "text/html": [
       "<div id=\"a70bd7cd-328b-4016-80aa-331c55700188\" style=\"height: 525px; width: 100%;\" class=\"plotly-graph-div\"></div><script type=\"text/javascript\">require([\"plotly\"], function(Plotly) { window.PLOTLYENV=window.PLOTLYENV || {};window.PLOTLYENV.BASE_URL=\"https://plot.ly\";Plotly.newPlot(\"a70bd7cd-328b-4016-80aa-331c55700188\", [{\"line\": {\"color\": [1, 2, 3, 4, 5, 6], \"colorscale\": \"Portland\"}, \"type\": \"parcoords\", \"dimensions\": [{\"label\": \"Sugars\", \"values\": [14, 5, 2, 3, 6, 0], \"range\": [0, 25]}, {\"label\": \"Fat\", \"values\": [0, 1, 0, 1, 2, 2], \"range\": [0, 25]}, {\"label\": \"Fiber\", \"values\": [1, 9, 1, 3, 2, 3], \"range\": [0, 25]}, {\"label\": \"Carbohydrates\", \"values\": [11, 7, 21, 17, 12, 0], \"range\": [0, 25]}, {\"label\": \"Protein\", \"values\": [2, 4, 2, 3, 4, 5], \"range\": [0, 25]}]}], {\"margin\": {\"r\": 100, \"l\": 200, \"t\": 100}, \"annotations\": [{\"xref\": \"paper\", \"showarrow\": false, \"text\": \"Quaker Oatmeal\", \"x\": -0.2, \"font\": {\"size\": 14}, \"y\": 0.0}, {\"xref\": \"paper\", \"showarrow\": false, \"text\": \"Life\", \"x\": -0.2, \"font\": {\"size\": 14}, \"y\": 0.25}, {\"xref\": \"paper\", \"showarrow\": false, \"text\": \"All-Bran\", \"x\": -0.2, \"font\": {\"size\": 14}, \"y\": 0.2}, {\"xref\": \"paper\", \"showarrow\": false, \"text\": \"Wheaties\", \"x\": -0.2, \"font\": {\"size\": 14}, \"y\": 0.12}, {\"xref\": \"paper\", \"showarrow\": false, \"text\": \"Corn Flakes\", \"x\": -0.2, \"font\": {\"size\": 14}, \"y\": 0.07}, {\"xref\": \"paper\", \"showarrow\": false, \"text\": \"Apple Jacks\", \"x\": -0.2, \"font\": {\"size\": 14}, \"y\": 0.6}]}, {\"linkText\": \"Export to plot.ly\", \"showLink\": true})});</script>"
      ],
      "text/vnd.plotly.v1+html": [
       "<div id=\"a70bd7cd-328b-4016-80aa-331c55700188\" style=\"height: 525px; width: 100%;\" class=\"plotly-graph-div\"></div><script type=\"text/javascript\">require([\"plotly\"], function(Plotly) { window.PLOTLYENV=window.PLOTLYENV || {};window.PLOTLYENV.BASE_URL=\"https://plot.ly\";Plotly.newPlot(\"a70bd7cd-328b-4016-80aa-331c55700188\", [{\"line\": {\"color\": [1, 2, 3, 4, 5, 6], \"colorscale\": \"Portland\"}, \"type\": \"parcoords\", \"dimensions\": [{\"label\": \"Sugars\", \"values\": [14, 5, 2, 3, 6, 0], \"range\": [0, 25]}, {\"label\": \"Fat\", \"values\": [0, 1, 0, 1, 2, 2], \"range\": [0, 25]}, {\"label\": \"Fiber\", \"values\": [1, 9, 1, 3, 2, 3], \"range\": [0, 25]}, {\"label\": \"Carbohydrates\", \"values\": [11, 7, 21, 17, 12, 0], \"range\": [0, 25]}, {\"label\": \"Protein\", \"values\": [2, 4, 2, 3, 4, 5], \"range\": [0, 25]}]}], {\"margin\": {\"r\": 100, \"l\": 200, \"t\": 100}, \"annotations\": [{\"xref\": \"paper\", \"showarrow\": false, \"text\": \"Quaker Oatmeal\", \"x\": -0.2, \"font\": {\"size\": 14}, \"y\": 0.0}, {\"xref\": \"paper\", \"showarrow\": false, \"text\": \"Life\", \"x\": -0.2, \"font\": {\"size\": 14}, \"y\": 0.25}, {\"xref\": \"paper\", \"showarrow\": false, \"text\": \"All-Bran\", \"x\": -0.2, \"font\": {\"size\": 14}, \"y\": 0.2}, {\"xref\": \"paper\", \"showarrow\": false, \"text\": \"Wheaties\", \"x\": -0.2, \"font\": {\"size\": 14}, \"y\": 0.12}, {\"xref\": \"paper\", \"showarrow\": false, \"text\": \"Corn Flakes\", \"x\": -0.2, \"font\": {\"size\": 14}, \"y\": 0.07}, {\"xref\": \"paper\", \"showarrow\": false, \"text\": \"Apple Jacks\", \"x\": -0.2, \"font\": {\"size\": 14}, \"y\": 0.6}]}, {\"linkText\": \"Export to plot.ly\", \"showLink\": true})});</script>"
      ]
     },
     "metadata": {},
     "output_type": "display_data"
    }
   ],
   "source": [
    "plotly.offline.iplot(figure)"
   ]
  },
  {
   "cell_type": "code",
   "execution_count": null,
   "metadata": {
    "collapsed": true
   },
   "outputs": [],
   "source": []
  }
 ],
 "metadata": {
  "kernelspec": {
   "display_name": "Python [conda root]",
   "language": "python",
   "name": "conda-root-py"
  },
  "language_info": {
   "codemirror_mode": {
    "name": "ipython",
    "version": 3
   },
   "file_extension": ".py",
   "mimetype": "text/x-python",
   "name": "python",
   "nbconvert_exporter": "python",
   "pygments_lexer": "ipython3",
   "version": "3.5.5"
  }
 },
 "nbformat": 4,
 "nbformat_minor": 2
}
