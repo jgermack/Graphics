{
 "cells": [
  {
   "cell_type": "markdown",
   "metadata": {},
   "source": [
    "### Time Series plot with Plotly\n",
    "Plotly is one of a number of graphics packages that's available  \n",
    "for Python, R and javascript. This example uses Python.  \n",
    "  \n",
    "The dataset was created from hypothetical sales data  \n",
    "of USA and non-USA sales."
   ]
  },
  {
   "cell_type": "code",
   "execution_count": 22,
   "metadata": {},
   "outputs": [],
   "source": [
    "import plotly\n",
    "import pandas as pd"
   ]
  },
  {
   "cell_type": "markdown",
   "metadata": {},
   "source": [
    "#### Offline graphs\n",
    "There are a number of ways to create graphs in Plotly.  \n",
    "This example displays offline and in a Jupyter notebook  \n",
    "so the line of code below is needed to initialize notebook mode.\n",
    "\n",
    "For more information:  \n",
    "https://plot.ly/python/getting-started/"
   ]
  },
  {
   "cell_type": "code",
   "execution_count": 23,
   "metadata": {},
   "outputs": [
    {
     "data": {
      "text/html": [
       "<script>requirejs.config({paths: { 'plotly': ['https://cdn.plot.ly/plotly-latest.min']},});if(!window.Plotly) {{require(['plotly'],function(plotly) {window.Plotly=plotly;});}}</script>"
      ],
      "text/vnd.plotly.v1+html": [
       "<script>requirejs.config({paths: { 'plotly': ['https://cdn.plot.ly/plotly-latest.min']},});if(!window.Plotly) {{require(['plotly'],function(plotly) {window.Plotly=plotly;});}}</script>"
      ]
     },
     "metadata": {},
     "output_type": "display_data"
    }
   ],
   "source": [
    "plotly.offline.init_notebook_mode(connected=True)"
   ]
  },
  {
   "cell_type": "markdown",
   "metadata": {},
   "source": [
    "#### Read Data\n",
    "Data for the graph was read from a csv file.  \n",
    "The data was adjusted by dividing into thousands  \n",
    "so that the value comparison would be easy to view."
   ]
  },
  {
   "cell_type": "code",
   "execution_count": 24,
   "metadata": {},
   "outputs": [],
   "source": [
    "data = pd.read_csv('H:\\\\My Documents\\\\Work\\\\datasets\\\\line_data.csv')"
   ]
  },
  {
   "cell_type": "code",
   "execution_count": 25,
   "metadata": {},
   "outputs": [
    {
     "data": {
      "text/html": [
       "<div>\n",
       "<style scoped>\n",
       "    .dataframe tbody tr th:only-of-type {\n",
       "        vertical-align: middle;\n",
       "    }\n",
       "\n",
       "    .dataframe tbody tr th {\n",
       "        vertical-align: top;\n",
       "    }\n",
       "\n",
       "    .dataframe thead th {\n",
       "        text-align: right;\n",
       "    }\n",
       "</style>\n",
       "<table border=\"1\" class=\"dataframe\">\n",
       "  <thead>\n",
       "    <tr style=\"text-align: right;\">\n",
       "      <th></th>\n",
       "      <th>month</th>\n",
       "      <th>sales_usa</th>\n",
       "      <th>sales_non-usa</th>\n",
       "    </tr>\n",
       "  </thead>\n",
       "  <tbody>\n",
       "    <tr>\n",
       "      <th>0</th>\n",
       "      <td>14-Jan</td>\n",
       "      <td>4670804</td>\n",
       "      <td>670325</td>\n",
       "    </tr>\n",
       "    <tr>\n",
       "      <th>1</th>\n",
       "      <td>14-Feb</td>\n",
       "      <td>4453093</td>\n",
       "      <td>634425</td>\n",
       "    </tr>\n",
       "    <tr>\n",
       "      <th>2</th>\n",
       "      <td>14-Mar</td>\n",
       "      <td>4297052</td>\n",
       "      <td>673990</td>\n",
       "    </tr>\n",
       "    <tr>\n",
       "      <th>3</th>\n",
       "      <td>14-Apr</td>\n",
       "      <td>4124673</td>\n",
       "      <td>667043</td>\n",
       "    </tr>\n",
       "    <tr>\n",
       "      <th>4</th>\n",
       "      <td>14-May</td>\n",
       "      <td>4234953</td>\n",
       "      <td>844018</td>\n",
       "    </tr>\n",
       "  </tbody>\n",
       "</table>\n",
       "</div>"
      ],
      "text/plain": [
       "    month  sales_usa  sales_non-usa\n",
       "0  14-Jan    4670804         670325\n",
       "1  14-Feb    4453093         634425\n",
       "2  14-Mar    4297052         673990\n",
       "3  14-Apr    4124673         667043\n",
       "4  14-May    4234953         844018"
      ]
     },
     "execution_count": 25,
     "metadata": {},
     "output_type": "execute_result"
    }
   ],
   "source": [
    "data.head()"
   ]
  },
  {
   "cell_type": "code",
   "execution_count": 26,
   "metadata": {},
   "outputs": [],
   "source": [
    "data['sales_usa'] = (data['sales_usa'] / 1000)\n",
    "data['sales_non-usa'] = (data['sales_non-usa'] / 1000) # adjust data for y scale 0 to 6200"
   ]
  },
  {
   "cell_type": "markdown",
   "metadata": {},
   "source": [
    "#### Graph\n",
    "The graph is a plots two time series; one representing  \n",
    "USA sales and the other non-USA sales. Line graphs use  \n",
    "the scatter type in plotly.  \n",
    "\n",
    "Annotations are used to label the graph lines instead  \n",
    "of using a legend. Annotated text was positioned relative  \n",
    "to the y values and the title was positioned based on the graph."
   ]
  },
  {
   "cell_type": "code",
   "execution_count": 33,
   "metadata": {},
   "outputs": [],
   "source": [
    "#range yaxis defaults to the data --won't start at 0 by default\n",
    "\n",
    "figure = {\n",
    "    \n",
    "    'data': [\n",
    "        {\n",
    "        'type': 'scatter',\n",
    "        'x': data['month'],\n",
    "        'y': data['sales_usa'],\n",
    "        'opacity': 0.7,\n",
    "        'line': {'color': 'rgb(60, 100, 160'}\n",
    "        },\n",
    "    \n",
    "        {\n",
    "        'type': 'scatter',\n",
    "        'x': data['month'],\n",
    "        'y': data['sales_non-usa'],\n",
    "        'opacity': 1.0,\n",
    "        'line': {'color': 'rgb(215, 145, 25'}\n",
    "        }\n",
    "        \n",
    "    ],\n",
    "    \n",
    "    'layout': {'xaxis': {'title': 'Months', 'showgrid': False}, \n",
    "               'yaxis': {'title':'Sales in thousands', 'range': [0, 6200]},\n",
    "               'showlegend': False,\n",
    "               'annotations': [\n",
    "                   {'x': 3, 'y':4800, 'xref': 'x', 'yref': 'y', 'text': 'USA', 'font': {'size': 16}, 'showarrow': False},\n",
    "                   {'x': 4, 'y': 1200, 'xref': 'x', 'yref': 'y', 'text': 'Non-USA', 'font': {'size': 16}, 'showarrow': False},\n",
    "                   {'x': 0, 'y': 1.05, 'xref': 'paper', 'yref': 'paper', 'text': 'Sales by Month', \n",
    "                    'xanchor': 'left', 'yanchor': 'bottom', 'font': {'size': 24}, 'showarrow': False}\n",
    "                   \n",
    "               ]}  \n",
    "    \n",
    "}\n",
    "\n"
   ]
  },
  {
   "cell_type": "code",
   "execution_count": 34,
   "metadata": {
    "scrolled": false
   },
   "outputs": [
    {
     "data": {
      "application/vnd.plotly.v1+json": {
       "data": [
        {
         "line": {
          "color": "rgb(60, 100, 160"
         },
         "opacity": 0.7,
         "type": "scatter",
         "x": [
          "14-Jan",
          "14-Feb",
          "14-Mar",
          "14-Apr",
          "14-May",
          "14-Jun",
          "14-Jul",
          "14-Aug",
          "14-Sep",
          "14-Oct",
          "14-Nov",
          "14-Dec",
          "15-Jan",
          "15-Feb",
          "15-Mar",
          "15-Apr",
          "15-May",
          "15-Jun",
          "15-Jul",
          "15-Aug",
          "15-Sep",
          "15-Oct",
          "15-Nov",
          "15-Dec",
          "16-Jan",
          "16-Feb",
          "16-Mar",
          "16-Apr",
          "16-May",
          "16-Jun",
          "16-Jul",
          "16-Aug",
          "16-Sep",
          "16-Oct",
          "16-Nov",
          "16-Dec",
          "17-Jan",
          "17-Feb",
          "17-Mar",
          "17-Apr",
          "17-May",
          "17-Jun",
          "17-Jul",
          "17-Aug",
          "17-Sep",
          "17-Oct",
          "17-Nov",
          "17-Dec",
          "18-Jan",
          "18-Feb",
          "18-Mar",
          "18-Apr"
         ],
         "y": [
          4670.804,
          4453.093,
          4297.052,
          4124.673,
          4234.953,
          3716.919,
          3990.708,
          3827.004,
          3969.804,
          4142.606,
          4034.281,
          4206.886,
          3984.116,
          4008.913,
          4159.758,
          3993.044,
          3946.722,
          4138.2,
          4089.797,
          4028.283,
          3849.559,
          4717.367,
          5076.196,
          3603.228,
          4293.653,
          4228.132,
          4600.127,
          4286.922,
          4293.734,
          4082.22,
          4023.408,
          4061.057,
          4145.902,
          4327.919,
          5397.342,
          3897.92,
          4562.94,
          4435.601,
          4050.483,
          4005.953,
          4574.846,
          4182.24,
          4510.577,
          4639.43,
          4334.46,
          4564.152,
          5970.8,
          4578.653,
          4049.105,
          4439.207,
          4833.693,
          4143.771
         ]
        },
        {
         "line": {
          "color": "rgb(215, 145, 25"
         },
         "opacity": 1,
         "type": "scatter",
         "x": [
          "14-Jan",
          "14-Feb",
          "14-Mar",
          "14-Apr",
          "14-May",
          "14-Jun",
          "14-Jul",
          "14-Aug",
          "14-Sep",
          "14-Oct",
          "14-Nov",
          "14-Dec",
          "15-Jan",
          "15-Feb",
          "15-Mar",
          "15-Apr",
          "15-May",
          "15-Jun",
          "15-Jul",
          "15-Aug",
          "15-Sep",
          "15-Oct",
          "15-Nov",
          "15-Dec",
          "16-Jan",
          "16-Feb",
          "16-Mar",
          "16-Apr",
          "16-May",
          "16-Jun",
          "16-Jul",
          "16-Aug",
          "16-Sep",
          "16-Oct",
          "16-Nov",
          "16-Dec",
          "17-Jan",
          "17-Feb",
          "17-Mar",
          "17-Apr",
          "17-May",
          "17-Jun",
          "17-Jul",
          "17-Aug",
          "17-Sep",
          "17-Oct",
          "17-Nov",
          "17-Dec",
          "18-Jan",
          "18-Feb",
          "18-Mar",
          "18-Apr"
         ],
         "y": [
          670.325,
          634.425,
          673.99,
          667.043,
          844.018,
          616.223,
          629.788,
          605.096,
          651.451,
          605.332,
          988.482,
          693.186,
          555.369,
          573.067,
          577.236,
          556.293,
          741.342,
          581.151,
          588.002,
          507.078,
          500.454,
          660.55,
          942.711,
          399.141,
          459.276,
          473.373,
          521.352,
          539.258,
          709.304,
          582.632,
          474.131,
          592.053,
          506.176,
          523.914,
          928.575,
          446.167,
          530.61,
          544.012,
          546.966,
          480.712,
          635.101,
          490.865,
          555.983,
          559.86,
          564.623,
          708.291,
          969.23,
          566.89,
          622.513,
          562.381,
          664.278,
          618.234
         ]
        }
       ],
       "layout": {
        "annotations": [
         {
          "font": {
           "size": 16
          },
          "showarrow": false,
          "text": "USA",
          "x": 3,
          "xref": "x",
          "y": 4800,
          "yref": "y"
         },
         {
          "font": {
           "size": 16
          },
          "showarrow": false,
          "text": "Non-USA",
          "x": 4,
          "xref": "x",
          "y": 1200,
          "yref": "y"
         },
         {
          "font": {
           "size": 24
          },
          "showarrow": false,
          "text": "Sales by Month",
          "x": 0,
          "xanchor": "left",
          "xref": "paper",
          "y": 1.05,
          "yanchor": "bottom",
          "yref": "paper"
         }
        ],
        "showlegend": false,
        "xaxis": {
         "showgrid": false,
         "title": "Months"
        },
        "yaxis": {
         "range": [
          0,
          6200
         ],
         "title": "Sales in thousands"
        }
       }
      },
      "text/html": [
       "<div id=\"f0d601c6-b2a7-443d-8211-ee3377877f3b\" style=\"height: 525px; width: 100%;\" class=\"plotly-graph-div\"></div><script type=\"text/javascript\">require([\"plotly\"], function(Plotly) { window.PLOTLYENV=window.PLOTLYENV || {};window.PLOTLYENV.BASE_URL=\"https://plot.ly\";Plotly.newPlot(\"f0d601c6-b2a7-443d-8211-ee3377877f3b\", [{\"x\": [\"14-Jan\", \"14-Feb\", \"14-Mar\", \"14-Apr\", \"14-May\", \"14-Jun\", \"14-Jul\", \"14-Aug\", \"14-Sep\", \"14-Oct\", \"14-Nov\", \"14-Dec\", \"15-Jan\", \"15-Feb\", \"15-Mar\", \"15-Apr\", \"15-May\", \"15-Jun\", \"15-Jul\", \"15-Aug\", \"15-Sep\", \"15-Oct\", \"15-Nov\", \"15-Dec\", \"16-Jan\", \"16-Feb\", \"16-Mar\", \"16-Apr\", \"16-May\", \"16-Jun\", \"16-Jul\", \"16-Aug\", \"16-Sep\", \"16-Oct\", \"16-Nov\", \"16-Dec\", \"17-Jan\", \"17-Feb\", \"17-Mar\", \"17-Apr\", \"17-May\", \"17-Jun\", \"17-Jul\", \"17-Aug\", \"17-Sep\", \"17-Oct\", \"17-Nov\", \"17-Dec\", \"18-Jan\", \"18-Feb\", \"18-Mar\", \"18-Apr\"], \"type\": \"scatter\", \"y\": [4670.804, 4453.093, 4297.052, 4124.673, 4234.953, 3716.919, 3990.708, 3827.004, 3969.804, 4142.606, 4034.281, 4206.886, 3984.116, 4008.913, 4159.758, 3993.044, 3946.722, 4138.2, 4089.797, 4028.283, 3849.559, 4717.367, 5076.196, 3603.228, 4293.653, 4228.132, 4600.127, 4286.922, 4293.734, 4082.22, 4023.408, 4061.057, 4145.902, 4327.919, 5397.342, 3897.92, 4562.94, 4435.601, 4050.483, 4005.953, 4574.846, 4182.24, 4510.577, 4639.43, 4334.46, 4564.152, 5970.8, 4578.653, 4049.105, 4439.207, 4833.693, 4143.771], \"opacity\": 0.7, \"line\": {\"color\": \"rgb(60, 100, 160\"}}, {\"x\": [\"14-Jan\", \"14-Feb\", \"14-Mar\", \"14-Apr\", \"14-May\", \"14-Jun\", \"14-Jul\", \"14-Aug\", \"14-Sep\", \"14-Oct\", \"14-Nov\", \"14-Dec\", \"15-Jan\", \"15-Feb\", \"15-Mar\", \"15-Apr\", \"15-May\", \"15-Jun\", \"15-Jul\", \"15-Aug\", \"15-Sep\", \"15-Oct\", \"15-Nov\", \"15-Dec\", \"16-Jan\", \"16-Feb\", \"16-Mar\", \"16-Apr\", \"16-May\", \"16-Jun\", \"16-Jul\", \"16-Aug\", \"16-Sep\", \"16-Oct\", \"16-Nov\", \"16-Dec\", \"17-Jan\", \"17-Feb\", \"17-Mar\", \"17-Apr\", \"17-May\", \"17-Jun\", \"17-Jul\", \"17-Aug\", \"17-Sep\", \"17-Oct\", \"17-Nov\", \"17-Dec\", \"18-Jan\", \"18-Feb\", \"18-Mar\", \"18-Apr\"], \"type\": \"scatter\", \"y\": [670.325, 634.425, 673.99, 667.043, 844.018, 616.223, 629.788, 605.096, 651.451, 605.332, 988.482, 693.186, 555.369, 573.067, 577.236, 556.293, 741.342, 581.151, 588.002, 507.078, 500.454, 660.55, 942.711, 399.141, 459.276, 473.373, 521.352, 539.258, 709.304, 582.632, 474.131, 592.053, 506.176, 523.914, 928.575, 446.167, 530.61, 544.012, 546.966, 480.712, 635.101, 490.865, 555.983, 559.86, 564.623, 708.291, 969.23, 566.89, 622.513, 562.381, 664.278, 618.234], \"opacity\": 1.0, \"line\": {\"color\": \"rgb(215, 145, 25\"}}], {\"xaxis\": {\"title\": \"Months\", \"showgrid\": false}, \"showlegend\": false, \"yaxis\": {\"range\": [0, 6200], \"title\": \"Sales in thousands\"}, \"annotations\": [{\"text\": \"USA\", \"xref\": \"x\", \"font\": {\"size\": 16}, \"y\": 4800, \"showarrow\": false, \"x\": 3, \"yref\": \"y\"}, {\"text\": \"Non-USA\", \"xref\": \"x\", \"font\": {\"size\": 16}, \"y\": 1200, \"showarrow\": false, \"x\": 4, \"yref\": \"y\"}, {\"text\": \"Sales by Month\", \"xref\": \"paper\", \"font\": {\"size\": 24}, \"y\": 1.05, \"showarrow\": false, \"x\": 0, \"xanchor\": \"left\", \"yanchor\": \"bottom\", \"yref\": \"paper\"}]}, {\"linkText\": \"Export to plot.ly\", \"showLink\": true})});</script>"
      ],
      "text/vnd.plotly.v1+html": [
       "<div id=\"f0d601c6-b2a7-443d-8211-ee3377877f3b\" style=\"height: 525px; width: 100%;\" class=\"plotly-graph-div\"></div><script type=\"text/javascript\">require([\"plotly\"], function(Plotly) { window.PLOTLYENV=window.PLOTLYENV || {};window.PLOTLYENV.BASE_URL=\"https://plot.ly\";Plotly.newPlot(\"f0d601c6-b2a7-443d-8211-ee3377877f3b\", [{\"x\": [\"14-Jan\", \"14-Feb\", \"14-Mar\", \"14-Apr\", \"14-May\", \"14-Jun\", \"14-Jul\", \"14-Aug\", \"14-Sep\", \"14-Oct\", \"14-Nov\", \"14-Dec\", \"15-Jan\", \"15-Feb\", \"15-Mar\", \"15-Apr\", \"15-May\", \"15-Jun\", \"15-Jul\", \"15-Aug\", \"15-Sep\", \"15-Oct\", \"15-Nov\", \"15-Dec\", \"16-Jan\", \"16-Feb\", \"16-Mar\", \"16-Apr\", \"16-May\", \"16-Jun\", \"16-Jul\", \"16-Aug\", \"16-Sep\", \"16-Oct\", \"16-Nov\", \"16-Dec\", \"17-Jan\", \"17-Feb\", \"17-Mar\", \"17-Apr\", \"17-May\", \"17-Jun\", \"17-Jul\", \"17-Aug\", \"17-Sep\", \"17-Oct\", \"17-Nov\", \"17-Dec\", \"18-Jan\", \"18-Feb\", \"18-Mar\", \"18-Apr\"], \"type\": \"scatter\", \"y\": [4670.804, 4453.093, 4297.052, 4124.673, 4234.953, 3716.919, 3990.708, 3827.004, 3969.804, 4142.606, 4034.281, 4206.886, 3984.116, 4008.913, 4159.758, 3993.044, 3946.722, 4138.2, 4089.797, 4028.283, 3849.559, 4717.367, 5076.196, 3603.228, 4293.653, 4228.132, 4600.127, 4286.922, 4293.734, 4082.22, 4023.408, 4061.057, 4145.902, 4327.919, 5397.342, 3897.92, 4562.94, 4435.601, 4050.483, 4005.953, 4574.846, 4182.24, 4510.577, 4639.43, 4334.46, 4564.152, 5970.8, 4578.653, 4049.105, 4439.207, 4833.693, 4143.771], \"opacity\": 0.7, \"line\": {\"color\": \"rgb(60, 100, 160\"}}, {\"x\": [\"14-Jan\", \"14-Feb\", \"14-Mar\", \"14-Apr\", \"14-May\", \"14-Jun\", \"14-Jul\", \"14-Aug\", \"14-Sep\", \"14-Oct\", \"14-Nov\", \"14-Dec\", \"15-Jan\", \"15-Feb\", \"15-Mar\", \"15-Apr\", \"15-May\", \"15-Jun\", \"15-Jul\", \"15-Aug\", \"15-Sep\", \"15-Oct\", \"15-Nov\", \"15-Dec\", \"16-Jan\", \"16-Feb\", \"16-Mar\", \"16-Apr\", \"16-May\", \"16-Jun\", \"16-Jul\", \"16-Aug\", \"16-Sep\", \"16-Oct\", \"16-Nov\", \"16-Dec\", \"17-Jan\", \"17-Feb\", \"17-Mar\", \"17-Apr\", \"17-May\", \"17-Jun\", \"17-Jul\", \"17-Aug\", \"17-Sep\", \"17-Oct\", \"17-Nov\", \"17-Dec\", \"18-Jan\", \"18-Feb\", \"18-Mar\", \"18-Apr\"], \"type\": \"scatter\", \"y\": [670.325, 634.425, 673.99, 667.043, 844.018, 616.223, 629.788, 605.096, 651.451, 605.332, 988.482, 693.186, 555.369, 573.067, 577.236, 556.293, 741.342, 581.151, 588.002, 507.078, 500.454, 660.55, 942.711, 399.141, 459.276, 473.373, 521.352, 539.258, 709.304, 582.632, 474.131, 592.053, 506.176, 523.914, 928.575, 446.167, 530.61, 544.012, 546.966, 480.712, 635.101, 490.865, 555.983, 559.86, 564.623, 708.291, 969.23, 566.89, 622.513, 562.381, 664.278, 618.234], \"opacity\": 1.0, \"line\": {\"color\": \"rgb(215, 145, 25\"}}], {\"xaxis\": {\"title\": \"Months\", \"showgrid\": false}, \"showlegend\": false, \"yaxis\": {\"range\": [0, 6200], \"title\": \"Sales in thousands\"}, \"annotations\": [{\"text\": \"USA\", \"xref\": \"x\", \"font\": {\"size\": 16}, \"y\": 4800, \"showarrow\": false, \"x\": 3, \"yref\": \"y\"}, {\"text\": \"Non-USA\", \"xref\": \"x\", \"font\": {\"size\": 16}, \"y\": 1200, \"showarrow\": false, \"x\": 4, \"yref\": \"y\"}, {\"text\": \"Sales by Month\", \"xref\": \"paper\", \"font\": {\"size\": 24}, \"y\": 1.05, \"showarrow\": false, \"x\": 0, \"xanchor\": \"left\", \"yanchor\": \"bottom\", \"yref\": \"paper\"}]}, {\"linkText\": \"Export to plot.ly\", \"showLink\": true})});</script>"
      ]
     },
     "metadata": {},
     "output_type": "display_data"
    }
   ],
   "source": [
    "plotly.offline.iplot(figure)"
   ]
  },
  {
   "cell_type": "code",
   "execution_count": null,
   "metadata": {},
   "outputs": [],
   "source": []
  }
 ],
 "metadata": {
  "kernelspec": {
   "display_name": "Python [conda root]",
   "language": "python",
   "name": "conda-root-py"
  },
  "language_info": {
   "codemirror_mode": {
    "name": "ipython",
    "version": 3
   },
   "file_extension": ".py",
   "mimetype": "text/x-python",
   "name": "python",
   "nbconvert_exporter": "python",
   "pygments_lexer": "ipython3",
   "version": "3.5.5"
  }
 },
 "nbformat": 4,
 "nbformat_minor": 2
}
