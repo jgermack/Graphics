{
 "cells": [
  {
   "cell_type": "markdown",
   "metadata": {},
   "source": [
    "### Scatter Plot with Plotly\n",
    "Plotly is one of a number of graphics packages that's available  \n",
    "for Python, R and javascript. This example uses Python.  \n",
    "  \n",
    "The dataset is from Kaggle.com  \n",
    "Formula 1 Race Data  \n",
    "https://www.kaggle.com/cjgdev/formula-1-race-data-19502017"
   ]
  },
  {
   "cell_type": "code",
   "execution_count": 1,
   "metadata": {
    "collapsed": true
   },
   "outputs": [],
   "source": [
    "from pathlib import Path\n",
    "import plotly\n",
    "import pandas as pd"
   ]
  },
  {
   "cell_type": "markdown",
   "metadata": {},
   "source": [
    "#### Offline graphs\n",
    "There are a number of ways to create graphs in Plotly.  \n",
    "This example displays offline and in a Jupyter notebook  \n",
    "so the line of code below is needed to initialize notebook mode.\n",
    "\n",
    "For more information:  \n",
    "https://plot.ly/python/getting-started/"
   ]
  },
  {
   "cell_type": "code",
   "execution_count": 2,
   "metadata": {},
   "outputs": [
    {
     "data": {
      "text/html": [
       "<script>requirejs.config({paths: { 'plotly': ['https://cdn.plot.ly/plotly-latest.min']},});if(!window.Plotly) {{require(['plotly'],function(plotly) {window.Plotly=plotly;});}}</script>"
      ],
      "text/vnd.plotly.v1+html": [
       "<script>requirejs.config({paths: { 'plotly': ['https://cdn.plot.ly/plotly-latest.min']},});if(!window.Plotly) {{require(['plotly'],function(plotly) {window.Plotly=plotly;});}}</script>"
      ]
     },
     "metadata": {},
     "output_type": "display_data"
    }
   ],
   "source": [
    "plotly.offline.init_notebook_mode(connected=True)"
   ]
  },
  {
   "cell_type": "markdown",
   "metadata": {},
   "source": [
    "#### Read Data\n",
    "Data for the graph was read for and Excel file.  \n",
    "A subset of the data was created to use only  \n",
    "results from the Malaysian Grand Prix."
   ]
  },
  {
   "cell_type": "code",
   "execution_count": 3,
   "metadata": {
    "collapsed": true
   },
   "outputs": [],
   "source": [
    "data_source = Path(\"H:/My Documents/Work/datasets/f1race/main_data/\")\n",
    "data_file = data_source / \"driver2005.xlsx\"\n",
    "\n",
    "datax = pd.read_excel(data_file)"
   ]
  },
  {
   "cell_type": "code",
   "execution_count": 4,
   "metadata": {
    "collapsed": true
   },
   "outputs": [],
   "source": [
    "datax = datax[datax.race == 'Malaysian Grand Prix']"
   ]
  },
  {
   "cell_type": "markdown",
   "metadata": {},
   "source": [
    "#### Graph\n",
    "The graph is a scatter plot of the race results showing  \n",
    "the starting grid position of the driver along with  \n",
    "the finish position for the top 13 spots which scored points.  \n",
    "\n",
    "The graph draws two scatter plots with the same general format  \n",
    "with changes to the \"y\" data and different colors to distinguish  \n",
    "the two data columns."
   ]
  },
  {
   "cell_type": "code",
   "execution_count": 8,
   "metadata": {
    "collapsed": true
   },
   "outputs": [],
   "source": [
    "\n",
    "figure = {\n",
    "    \n",
    "    'data': [\n",
    "        {\n",
    "        'type': 'scatter',\n",
    "        'x': datax['driver'],\n",
    "        'y': datax['grid'],\n",
    "        'name': 'Grid Position',\n",
    "        'mode': 'markers',\n",
    "        'opacity': 0.4,\n",
    "        'marker': {'size': 15, 'color': 'rgb(155, 165, 195)'}\n",
    "        },\n",
    "        \n",
    "        {\n",
    "        'type': 'scatter',\n",
    "        'x': datax['driver'],\n",
    "        'y': datax['finish'],\n",
    "        'name': 'Finish Position',\n",
    "        'mode': 'markers',\n",
    "        'opacity': 0.7,\n",
    "        'marker': {'size': 15, 'color': 'rgb(185, 45, 0)'}\n",
    "        }\n",
    "    \n",
    "    ],\n",
    "    \n",
    "    'layout': {'title': 'Grid & Finish Positions',\n",
    "              'margin': {'l': 175, 'r': 75, 'b': '125'},\n",
    "              'width': 900,\n",
    "              'height': 500,\n",
    "              'yaxis': {'title': 'Positions'},\n",
    "              'xaxis': {'title': 'Driver'}\n",
    "              }  \n",
    "    \n",
    "}\n",
    "\n"
   ]
  },
  {
   "cell_type": "markdown",
   "metadata": {},
   "source": [
    "#### Results\n",
    "From the graph one can see that Alonso and Trulli started  \n",
    "in the first two position and finished in the same positions.  \n",
    "Both Heidfeld and Montoya started further back in 10th and 11th  \n",
    "position but were able to finish 3rd and 4th. That pattern seemed  \n",
    "to follow a number of drivers who started in the back of the grid  \n",
    "but managed to finish in the points. \n",
    "\n",
    "The exception to this is Fisichella and Weber who started in 3rd and  \n",
    "4th but finished out of the points."
   ]
  },
  {
   "cell_type": "code",
   "execution_count": 9,
   "metadata": {
    "scrolled": false
   },
   "outputs": [
    {
     "data": {
      "application/vnd.plotly.v1+json": {
       "data": [
        {
         "marker": {
          "color": "rgb(155, 165, 195)",
          "size": 15
         },
         "mode": "markers",
         "name": "Grid Position",
         "opacity": 0.4,
         "type": "scatter",
         "x": [
          "Alonso",
          "Trulli",
          "Heidfeld",
          "Pablo Montoya",
          "R Schumacher",
          "Coulthard",
          "M Schumacher",
          "Klien",
          "Raikkonen",
          "Massa",
          "Karthikeyan",
          "Monteiro",
          "Albers",
          "Barrichello",
          "Fisichella",
          "Webber",
          "Villeneuve",
          "Button",
          "Davidson",
          "Friesacher"
         ],
         "y": [
          1,
          2,
          10,
          11,
          5,
          8,
          13,
          7,
          6,
          14,
          17,
          18,
          19,
          12,
          3,
          4,
          16,
          9,
          15,
          20
         ]
        },
        {
         "marker": {
          "color": "rgb(185, 45, 0)",
          "size": 15
         },
         "mode": "markers",
         "name": "Finish Position",
         "opacity": 0.7,
         "type": "scatter",
         "x": [
          "Alonso",
          "Trulli",
          "Heidfeld",
          "Pablo Montoya",
          "R Schumacher",
          "Coulthard",
          "M Schumacher",
          "Klien",
          "Raikkonen",
          "Massa",
          "Karthikeyan",
          "Monteiro",
          "Albers",
          "Barrichello",
          "Fisichella",
          "Webber",
          "Villeneuve",
          "Button",
          "Davidson",
          "Friesacher"
         ],
         "y": [
          1,
          2,
          3,
          4,
          5,
          6,
          7,
          8,
          9,
          10,
          11,
          12,
          13,
          null,
          null,
          null,
          null,
          null,
          null,
          null
         ]
        }
       ],
       "layout": {
        "height": 500,
        "margin": {
         "b": "125",
         "l": 175,
         "r": 75
        },
        "title": "Grid & Finish Positions",
        "width": 900,
        "xaxis": {
         "title": "Driver"
        },
        "yaxis": {
         "title": "Positions"
        }
       }
      },
      "text/html": [
       "<div id=\"86f211aa-c7ff-4eff-ae0b-37e7a82e7cad\" style=\"height: 500px; width: 900px;\" class=\"plotly-graph-div\"></div><script type=\"text/javascript\">require([\"plotly\"], function(Plotly) { window.PLOTLYENV=window.PLOTLYENV || {};window.PLOTLYENV.BASE_URL=\"https://plot.ly\";Plotly.newPlot(\"86f211aa-c7ff-4eff-ae0b-37e7a82e7cad\", [{\"name\": \"Grid Position\", \"opacity\": 0.4, \"y\": [1, 2, 10, 11, 5, 8, 13, 7, 6, 14, 17, 18, 19, 12, 3, 4, 16, 9, 15, 20], \"mode\": \"markers\", \"x\": [\"Alonso\", \"Trulli\", \"Heidfeld\", \"Pablo Montoya\", \"R Schumacher\", \"Coulthard\", \"M Schumacher\", \"Klien\", \"Raikkonen\", \"Massa\", \"Karthikeyan\", \"Monteiro\", \"Albers\", \"Barrichello\", \"Fisichella\", \"Webber\", \"Villeneuve\", \"Button\", \"Davidson\", \"Friesacher\"], \"type\": \"scatter\", \"marker\": {\"size\": 15, \"color\": \"rgb(155, 165, 195)\"}}, {\"name\": \"Finish Position\", \"opacity\": 0.7, \"y\": [1.0, 2.0, 3.0, 4.0, 5.0, 6.0, 7.0, 8.0, 9.0, 10.0, 11.0, 12.0, 13.0, null, null, null, null, null, null, null], \"mode\": \"markers\", \"x\": [\"Alonso\", \"Trulli\", \"Heidfeld\", \"Pablo Montoya\", \"R Schumacher\", \"Coulthard\", \"M Schumacher\", \"Klien\", \"Raikkonen\", \"Massa\", \"Karthikeyan\", \"Monteiro\", \"Albers\", \"Barrichello\", \"Fisichella\", \"Webber\", \"Villeneuve\", \"Button\", \"Davidson\", \"Friesacher\"], \"type\": \"scatter\", \"marker\": {\"size\": 15, \"color\": \"rgb(185, 45, 0)\"}}], {\"yaxis\": {\"title\": \"Positions\"}, \"width\": 900, \"xaxis\": {\"title\": \"Driver\"}, \"margin\": {\"l\": 175, \"r\": 75, \"b\": \"125\"}, \"height\": 500, \"title\": \"Grid & Finish Positions\"}, {\"showLink\": true, \"linkText\": \"Export to plot.ly\"})});</script>"
      ],
      "text/vnd.plotly.v1+html": [
       "<div id=\"86f211aa-c7ff-4eff-ae0b-37e7a82e7cad\" style=\"height: 500px; width: 900px;\" class=\"plotly-graph-div\"></div><script type=\"text/javascript\">require([\"plotly\"], function(Plotly) { window.PLOTLYENV=window.PLOTLYENV || {};window.PLOTLYENV.BASE_URL=\"https://plot.ly\";Plotly.newPlot(\"86f211aa-c7ff-4eff-ae0b-37e7a82e7cad\", [{\"name\": \"Grid Position\", \"opacity\": 0.4, \"y\": [1, 2, 10, 11, 5, 8, 13, 7, 6, 14, 17, 18, 19, 12, 3, 4, 16, 9, 15, 20], \"mode\": \"markers\", \"x\": [\"Alonso\", \"Trulli\", \"Heidfeld\", \"Pablo Montoya\", \"R Schumacher\", \"Coulthard\", \"M Schumacher\", \"Klien\", \"Raikkonen\", \"Massa\", \"Karthikeyan\", \"Monteiro\", \"Albers\", \"Barrichello\", \"Fisichella\", \"Webber\", \"Villeneuve\", \"Button\", \"Davidson\", \"Friesacher\"], \"type\": \"scatter\", \"marker\": {\"size\": 15, \"color\": \"rgb(155, 165, 195)\"}}, {\"name\": \"Finish Position\", \"opacity\": 0.7, \"y\": [1.0, 2.0, 3.0, 4.0, 5.0, 6.0, 7.0, 8.0, 9.0, 10.0, 11.0, 12.0, 13.0, null, null, null, null, null, null, null], \"mode\": \"markers\", \"x\": [\"Alonso\", \"Trulli\", \"Heidfeld\", \"Pablo Montoya\", \"R Schumacher\", \"Coulthard\", \"M Schumacher\", \"Klien\", \"Raikkonen\", \"Massa\", \"Karthikeyan\", \"Monteiro\", \"Albers\", \"Barrichello\", \"Fisichella\", \"Webber\", \"Villeneuve\", \"Button\", \"Davidson\", \"Friesacher\"], \"type\": \"scatter\", \"marker\": {\"size\": 15, \"color\": \"rgb(185, 45, 0)\"}}], {\"yaxis\": {\"title\": \"Positions\"}, \"width\": 900, \"xaxis\": {\"title\": \"Driver\"}, \"margin\": {\"l\": 175, \"r\": 75, \"b\": \"125\"}, \"height\": 500, \"title\": \"Grid & Finish Positions\"}, {\"showLink\": true, \"linkText\": \"Export to plot.ly\"})});</script>"
      ]
     },
     "metadata": {},
     "output_type": "display_data"
    }
   ],
   "source": [
    "plotly.offline.iplot(figure)"
   ]
  },
  {
   "cell_type": "code",
   "execution_count": null,
   "metadata": {
    "collapsed": true
   },
   "outputs": [],
   "source": []
  }
 ],
 "metadata": {
  "kernelspec": {
   "display_name": "Python [conda root]",
   "language": "python",
   "name": "conda-root-py"
  },
  "language_info": {
   "codemirror_mode": {
    "name": "ipython",
    "version": 3
   },
   "file_extension": ".py",
   "mimetype": "text/x-python",
   "name": "python",
   "nbconvert_exporter": "python",
   "pygments_lexer": "ipython3",
   "version": "3.5.5"
  }
 },
 "nbformat": 4,
 "nbformat_minor": 2
}
