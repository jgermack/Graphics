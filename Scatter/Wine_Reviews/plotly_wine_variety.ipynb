{
 "cells": [
  {
   "cell_type": "markdown",
   "metadata": {},
   "source": [
    "### Scatter Plot with Plotly\n",
    "Plotly is one of a number of graphics packages that's available  \n",
    "for Python, R and javascript. This example uses Python.  \n",
    "\n",
    "The original dataset is from Kaggle.com    \n",
    "Wine Reviews  \n",
    "https://www.kaggle.com/zynicide/wine-reviews"
   ]
  },
  {
   "cell_type": "code",
   "execution_count": 1,
   "metadata": {},
   "outputs": [],
   "source": [
    "import plotly\n",
    "import pandas as pd"
   ]
  },
  {
   "cell_type": "markdown",
   "metadata": {},
   "source": [
    "#### Offline graphs\n",
    "There are a number of ways to create graphs in Plotly.  \n",
    "This example displays offline and in a Jupyter notebook  \n",
    "so the line of code below is needed to initialize notebook mode.\n",
    "\n",
    "For more information:  \n",
    "https://plot.ly/python/getting-started/"
   ]
  },
  {
   "cell_type": "code",
   "execution_count": 2,
   "metadata": {},
   "outputs": [
    {
     "data": {
      "text/html": [
       "<script>requirejs.config({paths: { 'plotly': ['https://cdn.plot.ly/plotly-latest.min']},});if(!window.Plotly) {{require(['plotly'],function(plotly) {window.Plotly=plotly;});}}</script>"
      ],
      "text/vnd.plotly.v1+html": [
       "<script>requirejs.config({paths: { 'plotly': ['https://cdn.plot.ly/plotly-latest.min']},});if(!window.Plotly) {{require(['plotly'],function(plotly) {window.Plotly=plotly;});}}</script>"
      ]
     },
     "metadata": {},
     "output_type": "display_data"
    }
   ],
   "source": [
    "plotly.offline.init_notebook_mode(connected=True)"
   ]
  },
  {
   "cell_type": "markdown",
   "metadata": {},
   "source": [
    "#### Read Data\n",
    "Data for the graph was read from an Excel file.  \n",
    "The data was modified from the original with sprecific  \n",
    "records and columns chosen."
   ]
  },
  {
   "cell_type": "code",
   "execution_count": 3,
   "metadata": {},
   "outputs": [],
   "source": [
    "datax = pd.read_excel('H:\\\\My Documents\\\\Work\\\\datasets\\\\dashtest\\\\wine.xlsx')"
   ]
  },
  {
   "cell_type": "markdown",
   "metadata": {},
   "source": [
    "#### Graph\n",
    "The graph is a scatter plot of wine review points  \n",
    "versus the wine variety. The design plots numbers  \n",
    "related to categories or wine varieties in this case.  \n",
    "\n",
    "In the layout section, the height and width were set  \n",
    "to create a tall verticle graph with added margin to  \n",
    "fit the text. A background color was also added."
   ]
  },
  {
   "cell_type": "code",
   "execution_count": 6,
   "metadata": {},
   "outputs": [],
   "source": [
    "figure = {\n",
    "    \n",
    "    'data': [\n",
    "        {\n",
    "        'type': 'scatter',\n",
    "        'x': datax['points'],\n",
    "        'y': datax['variety'],\n",
    "        'mode': 'markers',\n",
    "        'opacity': 0.7,\n",
    "        'marker': {'size': 15, 'color': 'rgb(155, 165, 195)'}\n",
    "        }\n",
    "    ],\n",
    "    \n",
    "    'layout': {'title': 'Wine Variety',\n",
    "              'xaxis': {'title': 'points'}, \n",
    "              'showlegend': False,\n",
    "              'margin': {'l': 175, 'r': 75},\n",
    "              'width': 550,\n",
    "              'height': 800,\n",
    "              'paper_bgcolor': 'rgb(254, 247, 234)',\n",
    "               'plot_bgcolor': 'rgb(254, 247, 234)'}  \n",
    "    \n",
    "}"
   ]
  },
  {
   "cell_type": "code",
   "execution_count": 7,
   "metadata": {
    "scrolled": false
   },
   "outputs": [
    {
     "data": {
      "application/vnd.plotly.v1+json": {
       "data": [
        {
         "marker": {
          "color": "rgb(155, 165, 195)",
          "size": 15
         },
         "mode": "markers",
         "opacity": 0.7,
         "type": "scatter",
         "x": [
          89,
          89,
          89,
          89,
          89,
          89,
          85,
          85,
          85,
          90,
          87,
          95,
          95,
          85,
          89,
          89,
          88,
          88,
          92,
          92,
          92,
          92,
          92,
          92,
          92,
          92,
          92,
          92,
          94,
          94,
          93,
          91,
          91,
          90,
          90,
          86,
          86,
          86,
          86,
          86,
          86,
          86,
          86,
          92,
          92,
          92,
          91,
          91,
          91,
          91,
          91,
          91,
          88,
          88,
          88,
          88,
          90,
          90,
          90,
          90,
          90,
          90,
          85,
          85,
          85,
          95,
          100,
          98,
          97,
          97,
          95,
          95,
          95,
          92,
          92,
          92,
          91,
          91,
          91,
          91,
          90,
          87,
          90,
          91,
          90,
          86,
          97,
          96,
          95,
          92,
          92,
          92,
          91,
          91,
          92,
          90,
          90,
          90,
          90,
          87
         ],
         "y": [
          "Cabernet Blend",
          "Graner Veltliner",
          "Pinot Blanc",
          "Sauvignon Blanc",
          "Zweigelt",
          "Graner Veltliner",
          "Graner Veltliner",
          "Zweigelt",
          "Graner Veltliner",
          "Chardonnay",
          "Weissburgunder",
          "Chardonnay",
          "Chardonnay",
          "Champagne Blend",
          "Bordeaux-style Red Blend",
          "Bordeaux-style White Blend",
          "Melon",
          "Rhine-style White Blend",
          "Champagne Blend",
          "Chardonnay",
          "Champagne Blend",
          "Champagne Blend",
          "Chardonnay",
          "Champagne Blend",
          "Chardonnay",
          "Champagne Blend",
          "Pinot Noir",
          "Pinot Noir",
          "Nebbiolo",
          "Nebbiolo",
          "Nebbiolo",
          "Red Blend",
          "Sangiovese",
          "Red Blend",
          "Cabernet Sauvignon",
          "Barbera",
          "Dolcetto",
          "Barbera",
          "Barbera",
          "Barbera",
          "Glera",
          "Barbera",
          "Barbera",
          "Aglianico",
          "Red Blend",
          "White Blend",
          "Red Blend",
          "Riesling",
          "Cabernet Franc",
          "Merlot",
          "Pinot Noir",
          "Pinot Noir",
          "Syrah",
          "Chardonnay",
          "Pinot Noir",
          "Chardonnay",
          "Cabernet Sauvignon",
          "Cabernet Franc",
          "G-S-M",
          "Chardonnay",
          "Cabernet Sauvignon",
          "Zinfandel",
          "Pinot Noir",
          "Riesling",
          "Bordeaux-style Red Blend",
          "Pinot Noir",
          "Muscat",
          "Muscadelle",
          "Muscat",
          "Shiraz-Viognier",
          "Shiraz",
          "Shiraz-Viognier",
          "Shiraz",
          "Shiraz",
          "Viognier",
          "Shiraz",
          "Syrah",
          "Red Blend",
          "Merlot",
          "Cabernet Franc",
          "Bordeaux-style Red Blend",
          "Cabernet Sauvignon",
          "Syrah",
          "Argaman",
          "White Blend",
          "Cabernet Sauvignon",
          "Riesling",
          "Riesling",
          "Riesling",
          "Riesling",
          "Riesling",
          "Riesling",
          "Scheurebe",
          "Riesling",
          "Riesling",
          "Riesling",
          "Silvaner",
          "Riesling",
          "Fraburgunder",
          "Riesling"
         ]
        }
       ],
       "layout": {
        "height": 800,
        "margin": {
         "l": 175,
         "r": 75
        },
        "paper_bgcolor": "rgb(254, 247, 234)",
        "plot_bgcolor": "rgb(254, 247, 234)",
        "showlegend": false,
        "title": "Wine Variety",
        "width": 550,
        "xaxis": {
         "title": "points"
        }
       }
      },
      "text/html": [
       "<div id=\"86f3848c-938f-4b8a-87bb-96d40041040a\" style=\"height: 800px; width: 550px;\" class=\"plotly-graph-div\"></div><script type=\"text/javascript\">require([\"plotly\"], function(Plotly) { window.PLOTLYENV=window.PLOTLYENV || {};window.PLOTLYENV.BASE_URL=\"https://plot.ly\";Plotly.newPlot(\"86f3848c-938f-4b8a-87bb-96d40041040a\", [{\"marker\": {\"color\": \"rgb(155, 165, 195)\", \"size\": 15}, \"x\": [89, 89, 89, 89, 89, 89, 85, 85, 85, 90, 87, 95, 95, 85, 89, 89, 88, 88, 92, 92, 92, 92, 92, 92, 92, 92, 92, 92, 94, 94, 93, 91, 91, 90, 90, 86, 86, 86, 86, 86, 86, 86, 86, 92, 92, 92, 91, 91, 91, 91, 91, 91, 88, 88, 88, 88, 90, 90, 90, 90, 90, 90, 85, 85, 85, 95, 100, 98, 97, 97, 95, 95, 95, 92, 92, 92, 91, 91, 91, 91, 90, 87, 90, 91, 90, 86, 97, 96, 95, 92, 92, 92, 91, 91, 92, 90, 90, 90, 90, 87], \"type\": \"scatter\", \"y\": [\"Cabernet Blend\", \"Graner Veltliner\", \"Pinot Blanc\", \"Sauvignon Blanc\", \"Zweigelt\", \"Graner Veltliner\", \"Graner Veltliner\", \"Zweigelt\", \"Graner Veltliner\", \"Chardonnay\", \"Weissburgunder\", \"Chardonnay\", \"Chardonnay\", \"Champagne Blend\", \"Bordeaux-style Red Blend\", \"Bordeaux-style White Blend\", \"Melon\", \"Rhine-style White Blend\", \"Champagne Blend\", \"Chardonnay\", \"Champagne Blend\", \"Champagne Blend\", \"Chardonnay\", \"Champagne Blend\", \"Chardonnay\", \"Champagne Blend\", \"Pinot Noir\", \"Pinot Noir\", \"Nebbiolo\", \"Nebbiolo\", \"Nebbiolo\", \"Red Blend\", \"Sangiovese\", \"Red Blend\", \"Cabernet Sauvignon\", \"Barbera\", \"Dolcetto\", \"Barbera\", \"Barbera\", \"Barbera\", \"Glera\", \"Barbera\", \"Barbera\", \"Aglianico\", \"Red Blend\", \"White Blend\", \"Red Blend\", \"Riesling\", \"Cabernet Franc\", \"Merlot\", \"Pinot Noir\", \"Pinot Noir\", \"Syrah\", \"Chardonnay\", \"Pinot Noir\", \"Chardonnay\", \"Cabernet Sauvignon\", \"Cabernet Franc\", \"G-S-M\", \"Chardonnay\", \"Cabernet Sauvignon\", \"Zinfandel\", \"Pinot Noir\", \"Riesling\", \"Bordeaux-style Red Blend\", \"Pinot Noir\", \"Muscat\", \"Muscadelle\", \"Muscat\", \"Shiraz-Viognier\", \"Shiraz\", \"Shiraz-Viognier\", \"Shiraz\", \"Shiraz\", \"Viognier\", \"Shiraz\", \"Syrah\", \"Red Blend\", \"Merlot\", \"Cabernet Franc\", \"Bordeaux-style Red Blend\", \"Cabernet Sauvignon\", \"Syrah\", \"Argaman\", \"White Blend\", \"Cabernet Sauvignon\", \"Riesling\", \"Riesling\", \"Riesling\", \"Riesling\", \"Riesling\", \"Riesling\", \"Scheurebe\", \"Riesling\", \"Riesling\", \"Riesling\", \"Silvaner\", \"Riesling\", \"Fraburgunder\", \"Riesling\"], \"opacity\": 0.7, \"mode\": \"markers\"}], {\"margin\": {\"l\": 175, \"r\": 75}, \"height\": 800, \"xaxis\": {\"title\": \"points\"}, \"showlegend\": false, \"paper_bgcolor\": \"rgb(254, 247, 234)\", \"title\": \"Wine Variety\", \"width\": 550, \"plot_bgcolor\": \"rgb(254, 247, 234)\"}, {\"linkText\": \"Export to plot.ly\", \"showLink\": true})});</script>"
      ],
      "text/vnd.plotly.v1+html": [
       "<div id=\"86f3848c-938f-4b8a-87bb-96d40041040a\" style=\"height: 800px; width: 550px;\" class=\"plotly-graph-div\"></div><script type=\"text/javascript\">require([\"plotly\"], function(Plotly) { window.PLOTLYENV=window.PLOTLYENV || {};window.PLOTLYENV.BASE_URL=\"https://plot.ly\";Plotly.newPlot(\"86f3848c-938f-4b8a-87bb-96d40041040a\", [{\"marker\": {\"color\": \"rgb(155, 165, 195)\", \"size\": 15}, \"x\": [89, 89, 89, 89, 89, 89, 85, 85, 85, 90, 87, 95, 95, 85, 89, 89, 88, 88, 92, 92, 92, 92, 92, 92, 92, 92, 92, 92, 94, 94, 93, 91, 91, 90, 90, 86, 86, 86, 86, 86, 86, 86, 86, 92, 92, 92, 91, 91, 91, 91, 91, 91, 88, 88, 88, 88, 90, 90, 90, 90, 90, 90, 85, 85, 85, 95, 100, 98, 97, 97, 95, 95, 95, 92, 92, 92, 91, 91, 91, 91, 90, 87, 90, 91, 90, 86, 97, 96, 95, 92, 92, 92, 91, 91, 92, 90, 90, 90, 90, 87], \"type\": \"scatter\", \"y\": [\"Cabernet Blend\", \"Graner Veltliner\", \"Pinot Blanc\", \"Sauvignon Blanc\", \"Zweigelt\", \"Graner Veltliner\", \"Graner Veltliner\", \"Zweigelt\", \"Graner Veltliner\", \"Chardonnay\", \"Weissburgunder\", \"Chardonnay\", \"Chardonnay\", \"Champagne Blend\", \"Bordeaux-style Red Blend\", \"Bordeaux-style White Blend\", \"Melon\", \"Rhine-style White Blend\", \"Champagne Blend\", \"Chardonnay\", \"Champagne Blend\", \"Champagne Blend\", \"Chardonnay\", \"Champagne Blend\", \"Chardonnay\", \"Champagne Blend\", \"Pinot Noir\", \"Pinot Noir\", \"Nebbiolo\", \"Nebbiolo\", \"Nebbiolo\", \"Red Blend\", \"Sangiovese\", \"Red Blend\", \"Cabernet Sauvignon\", \"Barbera\", \"Dolcetto\", \"Barbera\", \"Barbera\", \"Barbera\", \"Glera\", \"Barbera\", \"Barbera\", \"Aglianico\", \"Red Blend\", \"White Blend\", \"Red Blend\", \"Riesling\", \"Cabernet Franc\", \"Merlot\", \"Pinot Noir\", \"Pinot Noir\", \"Syrah\", \"Chardonnay\", \"Pinot Noir\", \"Chardonnay\", \"Cabernet Sauvignon\", \"Cabernet Franc\", \"G-S-M\", \"Chardonnay\", \"Cabernet Sauvignon\", \"Zinfandel\", \"Pinot Noir\", \"Riesling\", \"Bordeaux-style Red Blend\", \"Pinot Noir\", \"Muscat\", \"Muscadelle\", \"Muscat\", \"Shiraz-Viognier\", \"Shiraz\", \"Shiraz-Viognier\", \"Shiraz\", \"Shiraz\", \"Viognier\", \"Shiraz\", \"Syrah\", \"Red Blend\", \"Merlot\", \"Cabernet Franc\", \"Bordeaux-style Red Blend\", \"Cabernet Sauvignon\", \"Syrah\", \"Argaman\", \"White Blend\", \"Cabernet Sauvignon\", \"Riesling\", \"Riesling\", \"Riesling\", \"Riesling\", \"Riesling\", \"Riesling\", \"Scheurebe\", \"Riesling\", \"Riesling\", \"Riesling\", \"Silvaner\", \"Riesling\", \"Fraburgunder\", \"Riesling\"], \"opacity\": 0.7, \"mode\": \"markers\"}], {\"margin\": {\"l\": 175, \"r\": 75}, \"height\": 800, \"xaxis\": {\"title\": \"points\"}, \"showlegend\": false, \"paper_bgcolor\": \"rgb(254, 247, 234)\", \"title\": \"Wine Variety\", \"width\": 550, \"plot_bgcolor\": \"rgb(254, 247, 234)\"}, {\"linkText\": \"Export to plot.ly\", \"showLink\": true})});</script>"
      ]
     },
     "metadata": {},
     "output_type": "display_data"
    }
   ],
   "source": [
    "plotly.offline.iplot(figure)"
   ]
  },
  {
   "cell_type": "code",
   "execution_count": null,
   "metadata": {},
   "outputs": [],
   "source": []
  }
 ],
 "metadata": {
  "kernelspec": {
   "display_name": "Python [conda root]",
   "language": "python",
   "name": "conda-root-py"
  },
  "language_info": {
   "codemirror_mode": {
    "name": "ipython",
    "version": 3
   },
   "file_extension": ".py",
   "mimetype": "text/x-python",
   "name": "python",
   "nbconvert_exporter": "python",
   "pygments_lexer": "ipython3",
   "version": "3.5.5"
  }
 },
 "nbformat": 4,
 "nbformat_minor": 2
}
